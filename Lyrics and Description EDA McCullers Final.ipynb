{
 "cells": [
  {
   "cell_type": "markdown",
   "metadata": {},
   "source": [
    "# ADS 509 Assignment 2.1: Tokenization, Normalization, Descriptive Statistics \n",
    "\n",
    "This notebook holds Assignment 2.1 for Module 2 in ADS 509, Applied Text Mining. Work through this notebook, writing code and answering questions where required. \n",
    "\n",
    "In the previous assignment you put together Twitter data and lyrics data on two artists. In this assignment we explore some of the textual features of those data sets. If, for some reason, you did not complete that previous assignment, data to use for this assignment can be found in the assignment materials section of Blackboard. \n",
    "\n",
    "This assignment asks you to write a short function to calculate some descriptive statistics on a piece of text. Then you are asked to find some interesting and unique statistics on your corpora. \n"
   ]
  },
  {
   "cell_type": "markdown",
   "metadata": {},
   "source": [
    "## General Assignment Instructions\n",
    "\n",
    "These instructions are included in every assignment, to remind you of the coding standards for the class. Feel free to delete this cell after reading it. \n",
    "\n",
    "One sign of mature code is conforming to a style guide. We recommend the [Google Python Style Guide](https://google.github.io/styleguide/pyguide.html). If you use a different style guide, please include a cell with a link. \n",
    "\n",
    "Your code should be relatively easy-to-read, sensibly commented, and clean. Writing code is a messy process, so please be sure to edit your final submission. Remove any cells that are not needed or parts of cells that contain unnecessary code. Remove inessential `import` statements and make sure that all such statements are moved into the designated cell. \n",
    "\n",
    "Make use of non-code cells for written commentary. These cells should be grammatical and clearly written. In some of these cells you will have questions to answer. The questions will be marked by a \"Q:\" and will have a corresponding \"A:\" spot for you. *Make sure to answer every question marked with a `Q:` for full credit.* \n"
   ]
  },
  {
   "cell_type": "code",
   "execution_count": 1,
   "metadata": {},
   "outputs": [],
   "source": [
    "import os\n",
    "import re\n",
    "import emoji\n",
    "import pandas as pd\n",
    "import numpy as np\n",
    "\n",
    "from collections import Counter, defaultdict\n",
    "from nltk.corpus import stopwords\n",
    "from string import punctuation\n",
    "\n",
    "sw = stopwords.words(\"english\")"
   ]
  },
  {
   "cell_type": "code",
   "execution_count": 2,
   "metadata": {},
   "outputs": [],
   "source": [
    "# Add any additional import statements you need here\n",
    "\n",
    "import collections\n"
   ]
  },
  {
   "cell_type": "code",
   "execution_count": 3,
   "metadata": {},
   "outputs": [],
   "source": [
    "# I ended up using the M1 Results for Cher and Robyn because my files for Rush and The Killers would not work. I think I\n",
    "# see now from the feedback on my module 1 HW. \n",
    "\n",
    "# change `data_location` to the location of the folder on your machine.\n",
    "data_location = \"./M1 Results/\"\n",
    "\n",
    "# These subfolders should still work if you correctly stored the \n",
    "# data from the Module 1 assignment\n",
    "twitter_folder = \"twitter/\"\n",
    "lyrics_folder = \"lyrics/\"\n",
    "\n",
    "# Section Complete"
   ]
  },
  {
   "cell_type": "code",
   "execution_count": 4,
   "metadata": {},
   "outputs": [],
   "source": [
    "def descriptive_stats(tokens, num_tokens = 5, verbose=True) :\n",
    "    \"\"\"\n",
    "        Given a list of tokens, print number of tokens, number of unique tokens, \n",
    "        number of characters, lexical diversity (https://en.wikipedia.org/wiki/Lexical_diversity), \n",
    "        and num_tokens most common tokens. Return a list with the number of tokens, number\n",
    "        of unique tokens, lexical diversity, and number of characters. \n",
    "    \n",
    "    \"\"\"\n",
    "\n",
    "    # Fill in the correct values here. I used the len function to get these correct values.\n",
    "    num_tokens = len(tokens)\n",
    "    num_unique_tokens = len(set(tokens))\n",
    "    lexical_diversity = num_unique_tokens/num_tokens\n",
    "    num_characters = len(\"\".join(tokens))\n",
    "    \n",
    "    if verbose :        \n",
    "        print(f\"There are {num_tokens} tokens in the data.\")\n",
    "        print(f\"There are {num_unique_tokens} unique tokens in the data.\")\n",
    "        print(f\"There are {num_characters} characters in the data.\")\n",
    "        print(f\"The lexical diversity is {lexical_diversity:.3f} in the data.\")\n",
    "    \n",
    "        # print the five most common tokens. I think when I ran this the first time a few of these funcitons were flipepd.\n",
    "        \n",
    "    return([num_tokens, num_unique_tokens,\n",
    "            num_characters,\n",
    "            lexical_diversity\n",
    "            ])\n",
    " \n",
    "# Section Complete"
   ]
  },
  {
   "cell_type": "code",
   "execution_count": 5,
   "metadata": {},
   "outputs": [
    {
     "name": "stdout",
     "output_type": "stream",
     "text": [
      "There are 13 tokens in the data.\n",
      "There are 9 unique tokens in the data.\n",
      "There are 55 characters in the data.\n",
      "The lexical diversity is 0.692 in the data.\n"
     ]
    }
   ],
   "source": [
    "text = \"\"\"here is some example text with other example text here in this text\"\"\".split()\n",
    "assert(descriptive_stats(text, verbose=True)[0] == 13)\n",
    "assert(descriptive_stats(text, verbose=False)[1] == 9)\n",
    "assert(descriptive_stats(text, verbose=False)[2] == 55)\n",
    "assert(abs(descriptive_stats(text, verbose=False)[3] - 0.69) < 0.02)\n"
   ]
  },
  {
   "cell_type": "markdown",
   "metadata": {},
   "source": [
    "Q: Why is it beneficial to use assertion statements in your code? \n",
    "\n",
    "A: To perform a sanity check during the development. "
   ]
  },
  {
   "cell_type": "markdown",
   "metadata": {},
   "source": [
    "## Data Input\n",
    "\n",
    "Now read in each of the corpora. For the lyrics data, it may be convenient to store the entire contents of the file to make it easier to inspect the titles individually, as you'll do in the last part of the assignment. In the solution, I stored the lyrics data in a dictionary with two dimensions of keys: artist and song. The value was the file contents. A data frame would work equally well. \n",
    "\n",
    "For the Twitter data, we only need the description field for this assignment. Feel free all the descriptions read it into a data structure. In the solution, I stored the descriptions as a dictionary of lists, with the key being the artist. \n",
    "\n",
    "\n"
   ]
  },
  {
   "cell_type": "code",
   "execution_count": 6,
   "metadata": {},
   "outputs": [
    {
     "name": "stdout",
     "output_type": "stream",
     "text": [
      "Read lyrics: 313 songs of cher\n",
      "Read lyrics: 93 songs of robyn\n"
     ]
    }
   ],
   "source": [
    "# Read in the lyrics data\n",
    "\n",
    "root_path = \"./M1 Results/lyrics\"\n",
    "lyric_data = dict()\n",
    "for dir_name in os.listdir(root_path):\n",
    "    if dir_name != \".DS_Store\":\n",
    "        file_path = root_path+'/'+dir_name\n",
    "        lyric_data[dir_name] = dict()\n",
    "        for file_name in os.listdir(file_path):\n",
    "            full_file_path = file_path+'/'+file_name\n",
    "            with open(full_file_path, 'r') as f:\n",
    "                text = f.read()\n",
    "                title = text.split(\"\\n\")[0].strip('\"')\n",
    "                artist = dir_name\n",
    "                lyric_data[artist][title] = text\n",
    "        print(f\"Read lyrics: {len(lyric_data[artist].keys())} songs of {dir_name}\")\n",
    "        \n",
    "# Section Complete"
   ]
  },
  {
   "cell_type": "code",
   "execution_count": 7,
   "metadata": {},
   "outputs": [
    {
     "data": {
      "text/html": [
       "<div>\n",
       "<style scoped>\n",
       "    .dataframe tbody tr th:only-of-type {\n",
       "        vertical-align: middle;\n",
       "    }\n",
       "\n",
       "    .dataframe tbody tr th {\n",
       "        vertical-align: top;\n",
       "    }\n",
       "\n",
       "    .dataframe thead th {\n",
       "        text-align: right;\n",
       "    }\n",
       "</style>\n",
       "<table border=\"1\" class=\"dataframe\">\n",
       "  <thead>\n",
       "    <tr style=\"text-align: right;\">\n",
       "      <th></th>\n",
       "      <th>title</th>\n",
       "      <th>artist</th>\n",
       "      <th>lyric</th>\n",
       "    </tr>\n",
       "  </thead>\n",
       "  <tbody>\n",
       "    <tr>\n",
       "      <th>0</th>\n",
       "      <td>88 Degrees</td>\n",
       "      <td>cher</td>\n",
       "      <td>\"88 Degrees\"\\n\\n\\n\\nStuck in L.A., ain't got n...</td>\n",
       "    </tr>\n",
       "    <tr>\n",
       "      <th>1</th>\n",
       "      <td>A Different Kind Of Love Song</td>\n",
       "      <td>cher</td>\n",
       "      <td>\"A Different Kind Of Love Song\"\\n\\n\\n\\nWhat if...</td>\n",
       "    </tr>\n",
       "    <tr>\n",
       "      <th>2</th>\n",
       "      <td>After All</td>\n",
       "      <td>cher</td>\n",
       "      <td>\"After All\"\\n\\n\\n\\nWell, here we are again\\nI ...</td>\n",
       "    </tr>\n",
       "    <tr>\n",
       "      <th>3</th>\n",
       "      <td>Again</td>\n",
       "      <td>cher</td>\n",
       "      <td>\"Again\"\\n\\n\\n\\nAgain evening finds me at your ...</td>\n",
       "    </tr>\n",
       "    <tr>\n",
       "      <th>4</th>\n",
       "      <td>Alfie</td>\n",
       "      <td>cher</td>\n",
       "      <td>\"Alfie\"\\n\\n\\n\\nWhat's it all about, Alfie?\\nIs...</td>\n",
       "    </tr>\n",
       "  </tbody>\n",
       "</table>\n",
       "</div>"
      ],
      "text/plain": [
       "                           title artist  \\\n",
       "0                     88 Degrees   cher   \n",
       "1  A Different Kind Of Love Song   cher   \n",
       "2                      After All   cher   \n",
       "3                          Again   cher   \n",
       "4                          Alfie   cher   \n",
       "\n",
       "                                               lyric  \n",
       "0  \"88 Degrees\"\\n\\n\\n\\nStuck in L.A., ain't got n...  \n",
       "1  \"A Different Kind Of Love Song\"\\n\\n\\n\\nWhat if...  \n",
       "2  \"After All\"\\n\\n\\n\\nWell, here we are again\\nI ...  \n",
       "3  \"Again\"\\n\\n\\n\\nAgain evening finds me at your ...  \n",
       "4  \"Alfie\"\\n\\n\\n\\nWhat's it all about, Alfie?\\nIs...  "
      ]
     },
     "execution_count": 7,
     "metadata": {},
     "output_type": "execute_result"
    }
   ],
   "source": [
    "# To make it easier to use further down I read this into a pandas df.\n",
    "\n",
    "lyric_df = (pd.DataFrame(lyric_data)\n",
    "            .reset_index()\n",
    "            .rename(columns = {'index':'title'}))\n",
    "lyric_df.loc[lyric_df['robyn'].isnull()==False,'artist'] = 'robyn'\n",
    "lyric_df.loc[lyric_df['cher'].isnull()==False,'artist'] = 'cher'\n",
    "lyric_df.loc[lyric_df['robyn'].isnull()==False,'lyric'] = lyric_df['robyn']\n",
    "lyric_df.loc[lyric_df['cher'].isnull()==False,'lyric'] = lyric_df['cher']\n",
    "lyric_df.drop(['cher','robyn'],axis = 1, inplace=True)\n",
    "lyric_df.head()\n",
    "\n",
    "# Section Complete"
   ]
  },
  {
   "cell_type": "code",
   "execution_count": 8,
   "metadata": {},
   "outputs": [
    {
     "name": "stdout",
     "output_type": "stream",
     "text": [
      "Read file:./M1 Results/twitter/cher_followers_data.txt 3994803 rows\n",
      "Read file:./M1 Results/twitter/robynkonichiwa_followers_data.txt 358372 rows\n",
      "Create dataframe: 4353175 rows in total.\n"
     ]
    }
   ],
   "source": [
    "# Read in the twitter data\n",
    "\n",
    "root_path = \"./M1 Results/twitter\"\n",
    "twitter_data = list()\n",
    "for file_name in os.listdir(root_path):\n",
    "    if 'data' in file_name:\n",
    "        file_path = root_path+'/'+file_name\n",
    "        columns = ['screen_name','name','id','location','followers_count','friends_count','description']\n",
    "        df = pd.read_csv(file_path,sep='\\\\t',engine='python')\n",
    "        df['following'] = file_name.split(\"_followers\")[0]\n",
    "        twitter_data.append(df[['following','description']])\n",
    "        print(f\"Read file:{file_path}\",f\"{df.shape[0]} rows\")\n",
    "        \n",
    "twitter_df = pd.concat(twitter_data,axis=0).fillna(\" \")\n",
    "print(f\"Create dataframe: {twitter_df.shape[0]} rows in total.\")\n",
    "\n",
    "# Section Complete"
   ]
  },
  {
   "cell_type": "code",
   "execution_count": 9,
   "metadata": {},
   "outputs": [
    {
     "data": {
      "text/html": [
       "<div>\n",
       "<style scoped>\n",
       "    .dataframe tbody tr th:only-of-type {\n",
       "        vertical-align: middle;\n",
       "    }\n",
       "\n",
       "    .dataframe tbody tr th {\n",
       "        vertical-align: top;\n",
       "    }\n",
       "\n",
       "    .dataframe thead th {\n",
       "        text-align: right;\n",
       "    }\n",
       "</style>\n",
       "<table border=\"1\" class=\"dataframe\">\n",
       "  <thead>\n",
       "    <tr style=\"text-align: right;\">\n",
       "      <th></th>\n",
       "      <th>following</th>\n",
       "      <th>description</th>\n",
       "    </tr>\n",
       "  </thead>\n",
       "  <tbody>\n",
       "    <tr>\n",
       "      <th>0</th>\n",
       "      <td>cher</td>\n",
       "      <td></td>\n",
       "    </tr>\n",
       "    <tr>\n",
       "      <th>1</th>\n",
       "      <td>cher</td>\n",
       "      <td>ð�™¿ð�š›ð�š˜ð�šžð�š� ð�šœð�šžð�š™ð�š™ð�š˜ð�š›ð...</td>\n",
       "    </tr>\n",
       "    <tr>\n",
       "      <th>2</th>\n",
       "      <td>cher</td>\n",
       "      <td>163ãŽ�ï¼�æ„›ã�‹ã�£ã�·ðŸ’œ26æ­³ðŸ�’ å·¥ã€‡å¥½ã�...</td>\n",
       "    </tr>\n",
       "    <tr>\n",
       "      <th>3</th>\n",
       "      <td>cher</td>\n",
       "      <td>csu</td>\n",
       "    </tr>\n",
       "    <tr>\n",
       "      <th>4</th>\n",
       "      <td>cher</td>\n",
       "      <td>Writer @Washinformer @SpelmanCollege alumna #D...</td>\n",
       "    </tr>\n",
       "  </tbody>\n",
       "</table>\n",
       "</div>"
      ],
      "text/plain": [
       "  following                                        description\n",
       "0      cher                                                   \n",
       "1      cher  ð�™¿ð�š›ð�š˜ð�šžð�š� ð�šœð�šžð�š™ð�š™ð�š˜ð�š›ð...\n",
       "2      cher  163ãŽ�ï¼�æ„›ã�‹ã�£ã�·ðŸ’œ26æ­³ðŸ�’ å·¥ã€‡å¥½ã�...\n",
       "3      cher                                                csu\n",
       "4      cher  Writer @Washinformer @SpelmanCollege alumna #D..."
      ]
     },
     "execution_count": 9,
     "metadata": {},
     "output_type": "execute_result"
    }
   ],
   "source": [
    "# To validate that I created the twitter df with following as the index of which artist the follower is following:\n",
    "\n",
    "twitter_df.head()\n",
    "\n",
    "# Section Complete"
   ]
  },
  {
   "cell_type": "markdown",
   "metadata": {},
   "source": [
    "## Data Cleaning\n",
    "\n",
    "Now clean and tokenize your data. Remove punctuation chacters (available in the `punctuation` object in the `string` library), split on whitespace, fold to lowercase, and remove stopwords. Store your cleaned data, which must be accessible as an interable for `descriptive_stats`, in new objects or in new columns in your data frame. \n",
    "\n"
   ]
  },
  {
   "cell_type": "code",
   "execution_count": 10,
   "metadata": {},
   "outputs": [
    {
     "name": "stdout",
     "output_type": "stream",
     "text": [
      "{'*', ':', '|', ';', '^', '=', '<', '$', '.', \"'\", '/', '+', '[', '#', '`', '!', '\\\\', ',', '>', '?', '@', '%', '(', '&', '{', '}', ')', '_', '\"', '~', ']', '-'}\n"
     ]
    }
   ],
   "source": [
    "punctuation = set(punctuation) # speeds up comparison\n",
    "print(punctuation)"
   ]
  },
  {
   "cell_type": "code",
   "execution_count": 11,
   "metadata": {},
   "outputs": [],
   "source": [
    "# Create funcitons to help with the cleaning as asked above:\n",
    "\n",
    "def remove_stop(tokens):\n",
    "    stopwords = set(nltk.corpus.stopwords.words('english'))\n",
    "    return [t for t in tokens if t.lower() not in stopwords]\n",
    "\n",
    "def tokenize(text):\n",
    "    tokenizer = nltk.RegexpTokenizer(r\"\\w+\")\n",
    "    tokens = tokenizer.tokenize(text)\n",
    "    return [t for t in tokens if t.isalpha()]\n",
    "\n",
    "def remove_punctuation(tokens):\n",
    "    return [t for t in tokens if t not in set(punctuation)]\n",
    "\n",
    "def remove_letterlike_symbol(tokens):\n",
    "    \"\"\"\n",
    "    e.g. Japenese, Korean...\n",
    "    \"\"\"\n",
    "    return [t for t in tokens if t.isascii()]\n",
    "\n",
    "pipeline = [str.lower, tokenize, remove_punctuation, remove_stop,remove_letterlike_symbol]\n",
    "def prepare(text, pipeline): \n",
    "    tokens = text\n",
    "    for transform in pipeline: \n",
    "        tokens = transform(tokens)\n",
    "    return \" \".join(tokens)\n",
    "\n",
    "# Section Complete"
   ]
  },
  {
   "cell_type": "code",
   "execution_count": 13,
   "metadata": {},
   "outputs": [],
   "source": [
    "import nltk"
   ]
  },
  {
   "cell_type": "code",
   "execution_count": 14,
   "metadata": {},
   "outputs": [
    {
     "data": {
      "text/plain": [
       "0                                                     \n",
       "1                                                     \n",
       "2                                                     \n",
       "3                                                  csu\n",
       "4    writer washinformer spelmancollege alumna dcna...\n",
       "Name: description_token, dtype: object"
      ]
     },
     "execution_count": 14,
     "metadata": {},
     "output_type": "execute_result"
    }
   ],
   "source": [
    "# create your clean twitter data here\n",
    "\n",
    "twitter_df['description_token']=twitter_df['description'].apply(prepare,pipeline=pipeline)\n",
    "twitter_df['description_token'].head()\n",
    "\n",
    "# Section Complete"
   ]
  },
  {
   "cell_type": "code",
   "execution_count": 15,
   "metadata": {},
   "outputs": [
    {
     "data": {
      "text/plain": [
       "0    degrees stuck l got friends hollywood nuts man...\n",
       "1    different kind love song world crazy sane woul...\n",
       "2    well guess must fate tried deep inside known b...\n",
       "3    evening finds door ask could try know quite sa...\n",
       "4    alfie alfie moment live sort alfie meant take ...\n",
       "Name: lyric_token, dtype: object"
      ]
     },
     "execution_count": 15,
     "metadata": {},
     "output_type": "execute_result"
    }
   ],
   "source": [
    "# create your clean lyrics data here\n",
    "\n",
    "lyric_df['lyric_token']=lyric_df['lyric'].apply(prepare,pipeline=pipeline)\n",
    "lyric_df['lyric_token'].head()\n"
   ]
  },
  {
   "cell_type": "code",
   "execution_count": 16,
   "metadata": {},
   "outputs": [
    {
     "data": {
      "text/plain": [
       "0                     degrees\n",
       "1    different kind love song\n",
       "2                            \n",
       "3                            \n",
       "4                       alfie\n",
       "Name: title_token, dtype: object"
      ]
     },
     "execution_count": 16,
     "metadata": {},
     "output_type": "execute_result"
    }
   ],
   "source": [
    "lyric_df['title_token']=lyric_df['title'].apply(prepare,pipeline=pipeline)\n",
    "lyric_df['title_token'].head()\n",
    "\n",
    "# Section Complete"
   ]
  },
  {
   "cell_type": "markdown",
   "metadata": {},
   "source": [
    "## Basic Descriptive Statistics\n",
    "\n",
    "Call your `descriptive_stats` function on both your lyrics data and your twitter data and for both artists (four total calls). "
   ]
  },
  {
   "cell_type": "code",
   "execution_count": 17,
   "metadata": {},
   "outputs": [
    {
     "name": "stdout",
     "output_type": "stream",
     "text": [
      "Lyrics by Artist: robyn\n",
      "There are 11877 tokens in the data.\n",
      "There are 2053 unique tokens in the data.\n",
      "There are 58057 characters in the data.\n",
      "The lexical diversity is 0.173 in the data.\n"
     ]
    },
    {
     "data": {
      "text/plain": [
       "[11877, 2053, 58057, 0.17285509808874294]"
      ]
     },
     "execution_count": 17,
     "metadata": {},
     "output_type": "execute_result"
    }
   ],
   "source": [
    "# calls to descriptive_stats here\n",
    "# I'm starting by breaking this up first for lyrics of Robyn:\n",
    "\n",
    "text = \" \".join(lyric_df[lyric_df['artist']==\"robyn\"]['lyric_token'].tolist()).split()\n",
    "print(\"Lyrics by Artist: robyn\")\n",
    "descriptive_stats(text, verbose=True)"
   ]
  },
  {
   "cell_type": "code",
   "execution_count": 18,
   "metadata": {},
   "outputs": [
    {
     "name": "stdout",
     "output_type": "stream",
     "text": [
      "Lyrics by Artist: cher\n",
      "There are 32601 tokens in the data.\n",
      "There are 3527 unique tokens in the data.\n",
      "There are 158050 characters in the data.\n",
      "The lexical diversity is 0.108 in the data.\n"
     ]
    },
    {
     "data": {
      "text/plain": [
       "[32601, 3527, 158050, 0.10818686543357565]"
      ]
     },
     "execution_count": 18,
     "metadata": {},
     "output_type": "execute_result"
    }
   ],
   "source": [
    "# Now for cher:\n",
    "\n",
    "text = \" \".join(lyric_df[lyric_df['artist']==\"cher\"]['lyric_token'].tolist()).split()\n",
    "print(\"Lyrics by Artist: cher\")\n",
    "descriptive_stats(text, verbose=True)"
   ]
  },
  {
   "cell_type": "code",
   "execution_count": 19,
   "metadata": {},
   "outputs": [
    {
     "name": "stdout",
     "output_type": "stream",
     "text": [
      "Twitter Followers of robynkonichiwa\n",
      "There are 1402208 tokens in the data.\n",
      "There are 155185 unique tokens in the data.\n",
      "There are 8128442 characters in the data.\n",
      "The lexical diversity is 0.111 in the data.\n"
     ]
    },
    {
     "data": {
      "text/plain": [
       "[1402208, 155185, 8128442, 0.11067188320135102]"
      ]
     },
     "execution_count": 19,
     "metadata": {},
     "output_type": "execute_result"
    }
   ],
   "source": [
    "# Now to break down the descriptive stats for followers of Robyn:\n",
    "\n",
    "text = \" \".join(twitter_df[twitter_df['following']==\"robynkonichiwa\"]['description_token'].tolist()).split()\n",
    "print(\"Twitter Followers of robynkonichiwa\")\n",
    "descriptive_stats(text, verbose=True)"
   ]
  },
  {
   "cell_type": "code",
   "execution_count": 20,
   "metadata": {},
   "outputs": [
    {
     "name": "stdout",
     "output_type": "stream",
     "text": [
      "Twitter Followers of cher\n",
      "There are 14331010 tokens in the data.\n",
      "There are 617321 unique tokens in the data.\n",
      "There are 82829471 characters in the data.\n",
      "The lexical diversity is 0.043 in the data.\n"
     ]
    },
    {
     "data": {
      "text/plain": [
       "[14331010, 617321, 82829471, 0.043075889277866666]"
      ]
     },
     "execution_count": 20,
     "metadata": {},
     "output_type": "execute_result"
    }
   ],
   "source": [
    "# Descriptive stats for followers of cher:\n",
    "\n",
    "text = \" \".join(twitter_df[twitter_df['following']==\"cher\"]['description_token'].tolist()).split()\n",
    "print(\"Twitter Followers of cher\")\n",
    "descriptive_stats(text, verbose=True)"
   ]
  },
  {
   "cell_type": "markdown",
   "metadata": {},
   "source": [
    "Q: How do you think the \"top 5 words\" would be different if we left stopwords in the data? \n",
    "\n",
    "A: I think the top 5 words would change to include the stop words. I think this would not be useful to include that is why we drop them.\n",
    "\n",
    "---\n",
    "\n",
    "Q: What were your prior beliefs about the lexical diversity between the artists? Does the difference (or lack thereof) in lexical diversity between the artists conform to your prior beliefs? \n",
    "\n",
    "A: I don't know too much about these artists so my initial thought would be that they would have similar lexical diversity. I was wrong because we can see that Roby has a higher lexical diversity compared to cher.\n"
   ]
  },
  {
   "cell_type": "markdown",
   "metadata": {},
   "source": [
    "\n",
    "## Specialty Statistics\n",
    "\n",
    "The descriptive statistics we have calculated are quite generic. You will now calculate a handful of statistics tailored to these data.\n",
    "\n",
    "1. Ten most common emojis by artist in the twitter descriptions.\n",
    "1. Ten most common hashtags by artist in the twitter descriptions.\n",
    "1. Five most common words in song titles by artist. \n",
    "1. For each artist, a histogram of song lengths (in terms of number of tokens) \n",
    "\n",
    "We can use the `emoji` library to help us identify emojis and you have been given a function to help you.\n"
   ]
  },
  {
   "cell_type": "code",
   "execution_count": 21,
   "metadata": {},
   "outputs": [],
   "source": [
    "def is_emoji(s):\n",
    "    return(s in emoji.UNICODE_EMOJI['en'])\n",
    "\n",
    "assert(is_emoji(\"❤️\"))\n",
    "assert(not is_emoji(\":-)\"))"
   ]
  },
  {
   "cell_type": "markdown",
   "metadata": {},
   "source": [
    "### Emojis 😁\n",
    "\n",
    "What are the ten most common emojis by artist in the twitter descriptions? \n"
   ]
  },
  {
   "cell_type": "code",
   "execution_count": 22,
   "metadata": {},
   "outputs": [
    {
     "name": "stdout",
     "output_type": "stream",
     "text": [
      "Ten most common emojis by robynkonichiwa\n",
      "[]\n"
     ]
    }
   ],
   "source": [
    "# Your code here, first for robyn\n",
    "\n",
    "text = \" \".join(twitter_df[twitter_df['following']==\"robynkonichiwa\"]['description'].tolist()).split()\n",
    "emojis = [x for x in text if is_emoji(x)]\n",
    "counter=collections.Counter(emojis)\n",
    "print(\"Ten most common emojis by robynkonichiwa\")\n",
    "print(counter.most_common(10))\n",
    "\n"
   ]
  },
  {
   "cell_type": "code",
   "execution_count": 23,
   "metadata": {},
   "outputs": [
    {
     "name": "stdout",
     "output_type": "stream",
     "text": [
      "Ten most common emojis by cher\n",
      "[('™', 1)]\n"
     ]
    }
   ],
   "source": [
    "#Emojis for cher:\n",
    "\n",
    "text = \" \".join(twitter_df[twitter_df['following']==\"cher\"]['description'].tolist()).split()\n",
    "emojis = [x for x in text if is_emoji(x)]\n",
    "counter=collections.Counter(emojis)\n",
    "print(\"Ten most common emojis by cher\")\n",
    "print(counter.most_common(10))\n",
    "\n",
    "# Section Complete"
   ]
  },
  {
   "cell_type": "markdown",
   "metadata": {},
   "source": [
    "### Hashtags\n",
    "\n",
    "What are the ten most common hashtags by artist in the twitter descriptions? \n"
   ]
  },
  {
   "cell_type": "code",
   "execution_count": 24,
   "metadata": {},
   "outputs": [
    {
     "name": "stdout",
     "output_type": "stream",
     "text": [
      "Ten most common hashtags by robynkonichiwa\n",
      "[('#BlackLivesMatter', 311), ('#BLM', 273), ('#blacklivesmatter', 200), ('#1', 187), ('#music', 150), ('#', 150), ('#Music', 93), ('#EDM', 79), ('#blm', 51), ('#TeamFollowBack', 51)]\n"
     ]
    }
   ],
   "source": [
    "# Your code here, first for Robyn:\n",
    "\n",
    "text = \" \".join(twitter_df[twitter_df['following']==\"robynkonichiwa\"]['description'].tolist()).split()\n",
    "hashtags = [x for x in text if x[0]=='#']\n",
    "counter=collections.Counter(hashtags)\n",
    "print(\"Ten most common hashtags by robynkonichiwa\")\n",
    "print(counter.most_common(10))"
   ]
  },
  {
   "cell_type": "code",
   "execution_count": 25,
   "metadata": {},
   "outputs": [
    {
     "name": "stdout",
     "output_type": "stream",
     "text": [
      "Ten most common hashtags by cher\n",
      "[('#BLM', 7920), ('#Resist', 5007), ('#BlackLivesMatter', 4226), ('#resist', 3134), ('#FBR', 2768), ('#blacklivesmatter', 2464), ('#TheResistance', 2459), ('#1', 2226), ('#', 1965), ('#Resistance', 1518)]\n"
     ]
    }
   ],
   "source": [
    "# Now hashtags for cher:\n",
    "\n",
    "text = \" \".join(twitter_df[twitter_df['following']==\"cher\"]['description'].tolist()).split()\n",
    "hashtags = [x for x in text if x[0]=='#']\n",
    "counter=collections.Counter(hashtags)\n",
    "print(\"Ten most common hashtags by cher\")\n",
    "print(counter.most_common(10))\n",
    "\n",
    "# Section Complete"
   ]
  },
  {
   "cell_type": "markdown",
   "metadata": {},
   "source": [
    "### Song Titles\n",
    "\n",
    "What are the five most common words in song titles by artist? The song titles should be on the first line of the lyrics pages, so if you have kept the raw file contents around, you will not need to re-read the data.\n"
   ]
  },
  {
   "cell_type": "code",
   "execution_count": 26,
   "metadata": {},
   "outputs": [
    {
     "name": "stdout",
     "output_type": "stream",
     "text": [
      "Five most common words by robyn\n",
      "[('love', 5), ('thing', 3), ('girl', 3), ('u', 3), ('like', 2), ('baby', 2), ('music', 2), ('woman', 2), ('girlfriend', 2), ('get', 2)]\n"
     ]
    }
   ],
   "source": [
    "# Your code here\n",
    "# After removing stopwords for robyn:\n",
    "\n",
    "text = \" \".join(lyric_df[lyric_df['artist']==\"robyn\"]['title_token'].tolist()).split()\n",
    "counter=collections.Counter(text)\n",
    "print(\"Five most common words by robyn\")\n",
    "print(counter.most_common(10))\n"
   ]
  },
  {
   "cell_type": "code",
   "execution_count": 27,
   "metadata": {},
   "outputs": [
    {
     "name": "stdout",
     "output_type": "stream",
     "text": [
      "Five most common words by cher\n",
      "[('love', 36), ('man', 15), ('song', 11), ('come', 7), ('one', 7), ('believe', 6), ('heart', 6), ('time', 6), ('go', 6), ('know', 6)]\n"
     ]
    }
   ],
   "source": [
    "# After removing stopwords for cher:\n",
    "\n",
    "text = \" \".join(lyric_df[lyric_df['artist']==\"cher\"]['title_token'].tolist()).split()\n",
    "counter=collections.Counter(text)\n",
    "print(\"Five most common words by cher\")\n",
    "print(counter.most_common(10))\n",
    "\n",
    "# Section Complete"
   ]
  },
  {
   "cell_type": "markdown",
   "metadata": {},
   "source": [
    "### Song Lengths\n",
    "\n",
    "For each artist, a histogram of song lengths (in terms of number of tokens). If you put the song lengths in a data frame with an artist column, matplotlib will make the plotting quite easy. An example is given to help you out. \n"
   ]
  },
  {
   "cell_type": "code",
   "execution_count": 28,
   "metadata": {},
   "outputs": [
    {
     "data": {
      "text/plain": [
       "artist\n",
       "Artist 1    AxesSubplot(0.125,0.125;0.775x0.755)\n",
       "Artist 2    AxesSubplot(0.125,0.125;0.775x0.755)\n",
       "Name: length, dtype: object"
      ]
     },
     "execution_count": 28,
     "metadata": {},
     "output_type": "execute_result"
    },
    {
     "data": {
      "image/png": "[encoded data removed]",
      "text/plain": [
       "<Figure size 432x288 with 1 Axes>"
      ]
     },
     "metadata": {
      "needs_background": "light"
     },
     "output_type": "display_data"
    }
   ],
   "source": [
    "num_replicates = 1000\n",
    "\n",
    "df = pd.DataFrame({\n",
    "    \"artist\" : ['Artist 1'] * num_replicates + ['Artist 2']*num_replicates,\n",
    "    \"length\" : np.concatenate((np.random.poisson(125,num_replicates),np.random.poisson(150,num_replicates)))\n",
    "})\n",
    "\n",
    "df.groupby('artist')['length'].plot(kind=\"hist\",density=True,alpha=0.5,legend=True)"
   ]
  },
  {
   "cell_type": "markdown",
   "metadata": {},
   "source": [
    "Since the lyrics may be stored with carriage returns or tabs, it may be useful to have a function that can collapse whitespace, using regular expressions, and be used for splitting. \n",
    "\n",
    "Q: What does the regular expression `'\\s+'` match on? \n",
    "\n",
    "A: It will match 1 or more repitions of whitespace with the above regular expression.\n"
   ]
  },
  {
   "cell_type": "code",
   "execution_count": 29,
   "metadata": {},
   "outputs": [],
   "source": [
    "collapse_whitespace = re.compile(r'\\s+')\n",
    "\n",
    "def tokenize_lyrics(lyric) : \n",
    "    \"\"\"strip and split on whitespace\"\"\"\n",
    "    return([item.lower() for item in collapse_whitespace.split(lyric)])"
   ]
  },
  {
   "cell_type": "code",
   "execution_count": 30,
   "metadata": {},
   "outputs": [
    {
     "data": {
      "text/plain": [
       "artist\n",
       "cher     AxesSubplot(0.125,0.125;0.775x0.755)\n",
       "robyn    AxesSubplot(0.125,0.125;0.775x0.755)\n",
       "Name: length, dtype: object"
      ]
     },
     "execution_count": 30,
     "metadata": {},
     "output_type": "execute_result"
    },
    {
     "data": {
      "image/png": "[encoded data removed]",
      "text/plain": [
       "<Figure size 432x288 with 1 Axes>"
      ]
     },
     "metadata": {
      "needs_background": "light"
     },
     "output_type": "display_data"
    }
   ],
   "source": [
    "# Your lyric length comparison chart here. \n",
    "\n",
    "lyric_df['lyric_split_length'] = lyric_df['lyric'].apply(lambda x: len(tokenize_lyrics(x)))\n",
    "lyric_df.head()\n",
    "\n",
    "df = pd.DataFrame({\n",
    "    \"artist\" : lyric_df['artist'],\n",
    "    \"length\" : lyric_df['lyric_split_length']\n",
    "})\n",
    "\n",
    "df.groupby('artist')['length'].plot(kind=\"hist\",density=True,alpha=0.5,legend=True)"
   ]
  }
 ],
 "metadata": {
  "kernelspec": {
   "display_name": "Python 3",
   "language": "python",
   "name": "python3"
  },
  "language_info": {
   "codemirror_mode": {
    "name": "ipython",
    "version": 3
   },
   "file_extension": ".py",
   "mimetype": "text/x-python",
   "name": "python",
   "nbconvert_exporter": "python",
   "pygments_lexer": "ipython3",
   "version": "3.8.3"
  }
 },
 "nbformat": 4,
 "nbformat_minor": 5
}
